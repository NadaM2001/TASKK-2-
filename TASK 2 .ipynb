{
 "cells": [
  {
   "cell_type": "code",
   "execution_count": 3,
   "id": "4e5910d5-d86e-4ac6-91b0-934bca5d8c44",
   "metadata": {},
   "outputs": [
    {
     "name": "stdin",
     "output_type": "stream",
     "text": [
      " 4\n",
      " 2\n"
     ]
    },
    {
     "name": "stdout",
     "output_type": "stream",
     "text": [
      "4 is divisible by 2\n"
     ]
    }
   ],
   "source": [
    "# Q1 #\n",
    "\n",
    "num1=int(input())\n",
    "num2=int(input())\n",
    "\n",
    "if num2==0:\n",
    "    print(\"division by zero not allowed\")\n",
    "elif num1 % num2 ==0:\n",
    "    print(f\"{num1} is divisible by {num2}\")\n",
    "else:\n",
    "    print(f\"{num1} is not divisible by {num2}\")"
   ]
  },
  {
   "cell_type": "code",
   "execution_count": 5,
   "id": "fb3e6380-1480-486e-a4e6-1334a075d4bf",
   "metadata": {},
   "outputs": [
    {
     "name": "stdout",
     "output_type": "stream",
     "text": [
      "1 is odd\n",
      "3 is odd\n",
      "5 is odd\n",
      "7 is odd\n",
      "9 is odd\n"
     ]
    }
   ],
   "source": [
    "# Q2 #\n",
    "\n",
    "for i in range(1,10):\n",
    "    if i % 2 !=0:\n",
    "        print(i,\"is odd\")"
   ]
  },
  {
   "cell_type": "code",
   "execution_count": 9,
   "id": "fd982a90-b094-43c0-8886-3b0777ca0125",
   "metadata": {},
   "outputs": [
    {
     "name": "stdout",
     "output_type": "stream",
     "text": [
      "21\n"
     ]
    }
   ],
   "source": [
    "# Q3 #\n",
    "\n",
    "l1=[1,2,3,4,5,6]\n",
    "\n",
    "list=sum(l1)\n",
    "print(list)"
   ]
  },
  {
   "cell_type": "code",
   "execution_count": 10,
   "id": "c3140be3-7641-4c1b-a6c6-c25e374e446d",
   "metadata": {},
   "outputs": [
    {
     "name": "stdin",
     "output_type": "stream",
     "text": [
      " 1900\n"
     ]
    },
    {
     "name": "stdout",
     "output_type": "stream",
     "text": [
      "is not leap year\n"
     ]
    }
   ],
   "source": [
    "# Q4 #\n",
    "\n",
    "year=int(input())\n",
    "\n",
    "if(year % 4==0 and year % 100 !=0) or (year % 400 == 0):\n",
    "    print(\"it is leap year\")\n",
    "else:\n",
    "    print(\"is not leap year\")"
   ]
  },
  {
   "cell_type": "code",
   "execution_count": 11,
   "id": "18996a96-bd1e-499e-b1b0-c2b7ce45df9f",
   "metadata": {},
   "outputs": [
    {
     "name": "stdin",
     "output_type": "stream",
     "text": [
      " nada\n"
     ]
    },
    {
     "name": "stdout",
     "output_type": "stream",
     "text": [
      "upper_ NADA\n",
      "lower_ nada\n"
     ]
    }
   ],
   "source": [
    "# Q5 #\n",
    "\n",
    "string=input()\n",
    "\n",
    "uppercase= string.upper()\n",
    "lowercase= string.lower()\n",
    "\n",
    "print(\"upper_\",uppercase)\n",
    "print(\"lower_\",lowercase)"
   ]
  },
  {
   "cell_type": "code",
   "execution_count": 13,
   "id": "efb08182-4ff3-48b5-a876-8532707c2e92",
   "metadata": {},
   "outputs": [
    {
     "name": "stdout",
     "output_type": "stream",
     "text": [
      "['nada', 'ahmed', 'ali', 'mona']\n"
     ]
    }
   ],
   "source": [
    "# Q6 #\n",
    "\n",
    "list1=['nada','ahmed','mohamed','ali','mona']\n",
    "\n",
    "remove=list1.pop(2)\n",
    "\n",
    "print(list1)\n",
    "\n"
   ]
  },
  {
   "cell_type": "code",
   "execution_count": 14,
   "id": "2ad4c555-79d9-4876-95c2-d9cffa138dc4",
   "metadata": {},
   "outputs": [
    {
     "name": "stdout",
     "output_type": "stream",
     "text": [
      "[2, 3, 4, 7, 8, 9, 10]\n"
     ]
    }
   ],
   "source": [
    "# Q7 #\n",
    "\n",
    "l=[2,7,8,4,9,10,3]\n",
    "\n",
    "l.sort()\n",
    "\n",
    "print(l)"
   ]
  },
  {
   "cell_type": "code",
   "execution_count": 18,
   "id": "4b970201-1c62-4dda-9cca-e66a2ba7151d",
   "metadata": {},
   "outputs": [
    {
     "name": "stdin",
     "output_type": "stream",
     "text": [
      " 5\n"
     ]
    },
    {
     "name": "stdout",
     "output_type": "stream",
     "text": [
      "5 x 1 = 5\n",
      "5 x 2 = 10\n",
      "5 x 3 = 15\n",
      "5 x 4 = 20\n",
      "5 x 5 = 25\n",
      "5 x 6 = 30\n",
      "5 x 7 = 35\n",
      "5 x 8 = 40\n",
      "5 x 9 = 45\n",
      "5 x 10 = 50\n"
     ]
    }
   ],
   "source": [
    "# Q8 #\n",
    "\n",
    "num=int(input())\n",
    "\n",
    "for i in range(1,11):\n",
    "    print(num,'x',i,'=',num*i)"
   ]
  },
  {
   "cell_type": "code",
   "execution_count": 28,
   "id": "1245c2fb-07bf-481f-bd71-2b3863013c1d",
   "metadata": {},
   "outputs": [
    {
     "name": "stdin",
     "output_type": "stream",
     "text": [
      " 2\n"
     ]
    },
    {
     "name": "stdout",
     "output_type": "stream",
     "text": [
      "4\n"
     ]
    }
   ],
   "source": [
    "# Q9 #\n",
    "\n",
    "def square(number):\n",
    "    return number**2\n",
    "num=int(input())\n",
    "n=square(num)\n",
    "print(n)\n",
    "    "
   ]
  },
  {
   "cell_type": "code",
   "execution_count": 29,
   "id": "603ae287-b758-40df-8d05-98f2556e7684",
   "metadata": {},
   "outputs": [
    {
     "name": "stdin",
     "output_type": "stream",
     "text": [
      " 123\n"
     ]
    },
    {
     "name": "stdout",
     "output_type": "stream",
     "text": [
      "6\n"
     ]
    }
   ],
   "source": [
    "# Q10 #\n",
    "\n",
    "def sum_(num):\n",
    "    if num>=100 and num<=999:\n",
    "        d1=num//100\n",
    "        d2=(num //10)%10\n",
    "        d3=num%10\n",
    "    return d1+d2+d3\n",
    "\n",
    "number=int(input())\n",
    "N=sum_(number)\n",
    "\n",
    "print(N)\n",
    "        \n"
   ]
  },
  {
   "cell_type": "code",
   "execution_count": 35,
   "id": "77c284ad-d5de-4574-a4e2-fae34474b86f",
   "metadata": {},
   "outputs": [
    {
     "name": "stdin",
     "output_type": "stream",
     "text": [
      " nada\n"
     ]
    },
    {
     "name": "stdout",
     "output_type": "stream",
     "text": [
      "adan\n"
     ]
    }
   ],
   "source": [
    "# Q11 #\n",
    "\n",
    "def reverse_(str):\n",
    "    return str[::-1]\n",
    "\n",
    "string=input()\n",
    "string1=reverse_(string)\n",
    "print(string1)\n"
   ]
  },
  {
   "cell_type": "code",
   "execution_count": 38,
   "id": "6810fff4-a2eb-4fc2-bf4b-507a6ff54271",
   "metadata": {},
   "outputs": [
    {
     "name": "stdin",
     "output_type": "stream",
     "text": [
      " what is your name?\n"
     ]
    },
    {
     "name": "stdout",
     "output_type": "stream",
     "text": [
      "4\n"
     ]
    }
   ],
   "source": [
    "# Q12 #\n",
    "\n",
    "def count_string(str):\n",
    "\n",
    "    words =str.split()\n",
    "\n",
    "    return len(words)\n",
    "\n",
    "string = input()\n",
    "\n",
    "print(count_string(string))\n",
    "\n",
    "\n",
    "    \n",
    "    "
   ]
  },
  {
   "cell_type": "code",
   "execution_count": 11,
   "id": "08e5206c-8484-428b-8331-274e20d6ad9c",
   "metadata": {},
   "outputs": [
    {
     "name": "stdin",
     "output_type": "stream",
     "text": [
      " nada mohamed\n",
      " 3\n"
     ]
    },
    {
     "name": "stdout",
     "output_type": "stream",
     "text": [
      "<function remove_elemnts at 0x0000026E93BD89A0> 3\n"
     ]
    }
   ],
   "source": [
    "# Q13 #\n",
    "\n",
    "def remove_elemnts(list1,index):\n",
    "    remove.list1[index]\n",
    "    return list1\n",
    "\n",
    "lst=input()\n",
    "n=int(input())\n",
    "print(remove_elemnts,n)\n",
    "    "
   ]
  },
  {
   "cell_type": "code",
   "execution_count": 43,
   "id": "411c207a-1741-46e0-94c7-7b20d745fd15",
   "metadata": {},
   "outputs": [
    {
     "name": "stdin",
     "output_type": "stream",
     "text": [
      " 1,2,3,4\n"
     ]
    },
    {
     "name": "stdout",
     "output_type": "stream",
     "text": [
      "['1,2,3,4', '1,2,3,4']\n"
     ]
    }
   ],
   "source": [
    "# Q14 #\n",
    "\n",
    "def duplicate(lst):\n",
    "    list2=lst+lst\n",
    "    return list2\n",
    "input_list=input().split()\n",
    "\n",
    "print(duplicate(input_list))\n",
    "    "
   ]
  },
  {
   "cell_type": "code",
   "execution_count": 44,
   "id": "5dabd3c1-6f30-4c6f-b998-87394c7f4f35",
   "metadata": {},
   "outputs": [
    {
     "name": "stdin",
     "output_type": "stream",
     "text": [
      " 4\n",
      " 2\n"
     ]
    },
    {
     "name": "stdout",
     "output_type": "stream",
     "text": [
      "True\n"
     ]
    }
   ],
   "source": [
    "# Q15 #\n",
    "\n",
    "def is_divisible(num1,num2):\n",
    "    if num1%num2==0:\n",
    "        return True\n",
    "    else:\n",
    "        return False\n",
    "\n",
    "number1=int(input())\n",
    "number2=int(input())\n",
    "print(is_divisible(number1,number2))"
   ]
  },
  {
   "cell_type": "code",
   "execution_count": 46,
   "id": "f5319f4e-3f10-4217-b964-674d8f1cb319",
   "metadata": {},
   "outputs": [
    {
     "name": "stdin",
     "output_type": "stream",
     "text": [
      " 2\n",
      " 3\n"
     ]
    },
    {
     "name": "stdout",
     "output_type": "stream",
     "text": [
      "8\n"
     ]
    }
   ],
   "source": [
    "# Q16 #\n",
    "\n",
    "def power_(base,exponent):\n",
    "    num=base**exponent\n",
    "    return num\n",
    "num1=int(input())\n",
    "num2=int(input())\n",
    "print(power_(num1,num2))"
   ]
  },
  {
   "cell_type": "code",
   "execution_count": 47,
   "id": "fc878a59-db6d-4abe-8617-ada839091cc8",
   "metadata": {},
   "outputs": [
    {
     "name": "stdout",
     "output_type": "stream",
     "text": [
      "2002,2009,2016,2023,2037,2044,2051,2058,2072,2079,2086,2093,2107,2114,2121,2128,2142,2149,2156,2163,2177,2184,2191,2198,2212,2219,2226,2233,2247,2254,2261,2268,2282,2289,2296,2303,2317,2324,2331,2338,2352,2359,2366,2373,2387,2394,2401,2408,2422,2429,2436,2443,2457,2464,2471,2478,2492,2499,2506,2513,2527,2534,2541,2548,2562,2569,2576,2583,2597,2604,2611,2618,2632,2639,2646,2653,2667,2674,2681,2688,2702,2709,2716,2723,2737,2744,2751,2758,2772,2779,2786,2793,2807,2814,2821,2828,2842,2849,2856,2863,2877,2884,2891,2898,2912,2919,2926,2933,2947,2954,2961,2968,2982,2989,2996\n"
     ]
    }
   ],
   "source": [
    "# Q17 #\n",
    "\n",
    "numbers= [str(num) for num in range(2000,3001) if num%7 == 0 and num%5 != 0]\n",
    "\n",
    "print(\",\".join(numbers))"
   ]
  },
  {
   "cell_type": "code",
   "execution_count": 52,
   "id": "6c8a8999-259f-4d13-9349-4be982507c22",
   "metadata": {},
   "outputs": [
    {
     "name": "stdin",
     "output_type": "stream",
     "text": [
      " 5\n"
     ]
    },
    {
     "name": "stdout",
     "output_type": "stream",
     "text": [
      "5, 120\n"
     ]
    }
   ],
   "source": [
    "# Q18 #\n",
    "\n",
    "def factorial(n):\n",
    "    if n==0 or n==1:\n",
    "        return 1\n",
    "    else:\n",
    "        return n * factorial(n-1)\n",
    "\n",
    "num=int(input())\n",
    "print(f\"{num},\",factorial(num))"
   ]
  },
  {
   "cell_type": "code",
   "execution_count": 59,
   "id": "c3068a96-c8a0-4d59-8515-694687e625bc",
   "metadata": {},
   "outputs": [
    {
     "name": "stdin",
     "output_type": "stream",
     "text": [
      " 4\n"
     ]
    },
    {
     "name": "stdout",
     "output_type": "stream",
     "text": [
      "{1: 1, 2: 4, 3: 9, 4: 16}\n"
     ]
    }
   ],
   "source": [
    "# Q19 #\n",
    "\n",
    "def dictionary(i):\n",
    "    num={n:n*n for n in range(1,i+1)}\n",
    "    return num \n",
    "\n",
    "num1=int(input())\n",
    "print(dictionary(num1))\n"
   ]
  },
  {
   "cell_type": "code",
   "execution_count": 60,
   "id": "a474a85a-106f-4cf4-9c53-700905f70e41",
   "metadata": {},
   "outputs": [
    {
     "name": "stdin",
     "output_type": "stream",
     "text": [
      " 1,2,3,4,5\n"
     ]
    },
    {
     "name": "stdout",
     "output_type": "stream",
     "text": [
      "['1', '2', '3', '4', '5']\n",
      "('1', '2', '3', '4', '5')\n"
     ]
    }
   ],
   "source": [
    "# Q20 #\n",
    "\n",
    "num=input()\n",
    "\n",
    "numlist=num.split(\",\")\n",
    "\n",
    "numtuple=tuple(numlist)\n",
    "\n",
    "print(numlist)\n",
    "print(numtuple)\n"
   ]
  },
  {
   "cell_type": "code",
   "execution_count": 202,
   "id": "82d9d405-5de2-4d8b-8a43-0c9ffe618313",
   "metadata": {},
   "outputs": [
    {
     "name": "stdin",
     "output_type": "stream",
     "text": [
      " 5\n"
     ]
    },
    {
     "name": "stdout",
     "output_type": "stream",
     "text": [
      "the value of Q IS : 4.08248290463863\n"
     ]
    }
   ],
   "source": [
    "# Q21 #\n",
    "\n",
    "import math\n",
    "\n",
    "def calculate_(c,d,h):\n",
    "    Q=math.sqrt((2*c*d)/h)\n",
    "    return Q\n",
    "c=50\n",
    "d=int(input())\n",
    "h=30\n",
    "result=calculate_(c,d,h)\n",
    "\n",
    "print(\"the value of Q IS :\",result)\n"
   ]
  },
  {
   "cell_type": "code",
   "execution_count": 64,
   "id": "fa53b801-85a7-4526-8d91-e2cd93d1c283",
   "metadata": {},
   "outputs": [
    {
     "name": "stdin",
     "output_type": "stream",
     "text": [
      " 3\n",
      " 5\n"
     ]
    },
    {
     "name": "stdout",
     "output_type": "stream",
     "text": [
      "[0, 0, 0, 0, 0]\n",
      "[0, 1, 2, 3, 4]\n",
      "[0, 2, 4, 6, 8]\n"
     ]
    }
   ],
   "source": [
    "# Q22 #\n",
    "def _2d_array(x,y):\n",
    "    array= [[i*j for j in range(y)] for i in range(x)]\n",
    "    return array\n",
    "x=int(input())\n",
    "y=int(input())\n",
    "\n",
    "result=_2d_array(x,y)\n",
    "\n",
    "for row in result:\n",
    "    print(row)"
   ]
  },
  {
   "cell_type": "code",
   "execution_count": 200,
   "id": "f5be7095-c9d7-4306-840e-7bb5a76f93ca",
   "metadata": {},
   "outputs": [
    {
     "name": "stdin",
     "output_type": "stream",
     "text": [
      " hello words nada hello\n"
     ]
    },
    {
     "name": "stdout",
     "output_type": "stream",
     "text": [
      "hello nada words\n"
     ]
    }
   ],
   "source": [
    "# Q23 #\n",
    "\n",
    "def words(_string):\n",
    "    w=_string.split()\n",
    "\n",
    "    unique=set(w)\n",
    "\n",
    "    sorted_=sorted(unique)\n",
    "\n",
    "    result=' '.join(sorted_)\n",
    "    return result\n",
    "\n",
    "_string=input()\n",
    "\n",
    "_output=words(_string)\n",
    "print(_output)"
   ]
  },
  {
   "cell_type": "code",
   "execution_count": 206,
   "id": "3ea55b5f-d065-4113-be9a-f34afbec8faf",
   "metadata": {},
   "outputs": [
    {
     "name": "stdin",
     "output_type": "stream",
     "text": [
      " 1011,1111,1001\n"
     ]
    },
    {
     "name": "stdout",
     "output_type": "stream",
     "text": [
      "binary num divisble by 5  1111\n"
     ]
    }
   ],
   "source": [
    "# Q24 #\n",
    "\n",
    "def is_divisibleby5(binary_num):\n",
    "    decimal_num=int(binary_num,2)\n",
    "    return decimal_num%5==0\n",
    "\n",
    "def filter_binary(input_string):\n",
    "    binary_number=input_string.split(',')\n",
    "    divisible_by_5=[num for num in binary_number if is_divisibleby5(num)]\n",
    "\n",
    "    result=','.join(divisible_by_5)\n",
    "    return result\n",
    "\n",
    "input_string_binary=input()\n",
    "output_string=filter_binary(input_string_binary)\n",
    "print(\"binary num divisble by 5 \",output_string)"
   ]
  },
  {
   "cell_type": "code",
   "execution_count": 65,
   "id": "49a67c50-5310-4d5f-8fe6-4f64d20547e4",
   "metadata": {},
   "outputs": [
    {
     "name": "stdout",
     "output_type": "stream",
     "text": [
      "2000,2002,2004,2006,2008,2020,2022,2024,2026,2028,2040,2042,2044,2046,2048,2060,2062,2064,2066,2068,2080,2082,2084,2086,2088,2200,2202,2204,2206,2208,2220,2222,2224,2226,2228,2240,2242,2244,2246,2248,2260,2262,2264,2266,2268,2280,2282,2284,2286,2288,2400,2402,2404,2406,2408,2420,2422,2424,2426,2428,2440,2442,2444,2446,2448,2460,2462,2464,2466,2468,2480,2482,2484,2486,2488,2600,2602,2604,2606,2608,2620,2622,2624,2626,2628,2640,2642,2644,2646,2648,2660,2662,2664,2666,2668,2680,2682,2684,2686,2688,2800,2802,2804,2806,2808,2820,2822,2824,2826,2828,2840,2842,2844,2846,2848,2860,2862,2864,2866,2868,2880,2882,2884,2886,2888\n"
     ]
    }
   ],
   "source": [
    "# Q25 #\n",
    "\n",
    "def even(num):\n",
    "\n",
    "    return all(int(digit)%2 == 0 for digit in str(num))\n",
    "even_numbers=[str(num) for num in range(1000,3001) if even(num)]\n",
    "print(\",\".join(even_numbers))\n"
   ]
  },
  {
   "cell_type": "code",
   "execution_count": 215,
   "id": "55ec74c4-d94f-414a-b03f-d56a6183c52e",
   "metadata": {},
   "outputs": [
    {
     "name": "stdin",
     "output_type": "stream",
     "text": [
      " nada22\n"
     ]
    },
    {
     "name": "stdout",
     "output_type": "stream",
     "text": [
      "4\n",
      "2\n"
     ]
    }
   ],
   "source": [
    "# Q26 #\n",
    "\n",
    "def count(sentence):\n",
    "    letters=0\n",
    "    digits=0\n",
    "\n",
    "    for char in sentence:\n",
    "        if char.isalpha():\n",
    "            letters+= 1\n",
    "        elif char.isdigit():\n",
    "            digits += 1\n",
    "    return letters, digits\n",
    "\n",
    "list1=input()\n",
    "\n",
    "letters,digits=count(list1)\n",
    "\n",
    "print(letters)\n",
    "print(digits)"
   ]
  },
  {
   "cell_type": "code",
   "execution_count": 214,
   "id": "fb342663-8cbd-4f0d-805e-aecb3ea09add",
   "metadata": {},
   "outputs": [
    {
     "name": "stdin",
     "output_type": "stream",
     "text": [
      " NADAmo\n"
     ]
    },
    {
     "name": "stdout",
     "output_type": "stream",
     "text": [
      "4\n",
      "2\n"
     ]
    }
   ],
   "source": [
    "# Q27 #\n",
    "\n",
    "def count(lst):\n",
    "    uppercase=0\n",
    "    lowercase=0\n",
    "\n",
    "    for char in lst:\n",
    "        if char.isupper():\n",
    "            uppercase+= 1\n",
    "        elif char.islower():\n",
    "            lowercase+= 1\n",
    "    return uppercase , lowercase\n",
    "    \n",
    "sentence=input()\n",
    "uppercase , lowercase=count(sentence)\n",
    "print(uppercase)\n",
    "print(lowercase)\n",
    "    \n"
   ]
  },
  {
   "cell_type": "markdown",
   "id": "e67cbc6d-e2d8-4ff5-a265-d5024b862674",
   "metadata": {},
   "source": [
    "# Q28 #\n",
    "\n",
    "def ifodd(num1):\n",
    "    \n",
    "    if num1%2 !=0:\n",
    "        print(num1**2)\n",
    "    else:\n",
    "        del(num1)\n",
    "    return num1\n",
    "\n",
    "num=int(input())\n",
    "numbers=[int(number) for number in num.split(\",\")]\n",
    "print(ifodd(num))\n",
    "    \n"
   ]
  },
  {
   "cell_type": "code",
   "execution_count": 210,
   "id": "1dbcee24-95b5-4feb-beab-f7db8628bf2d",
   "metadata": {},
   "outputs": [
    {
     "name": "stdin",
     "output_type": "stream",
     "text": [
      "enter name,age,height: nada,22,170\n"
     ]
    },
    {
     "ename": "TypeError",
     "evalue": "int() argument must be a string, a bytes-like object or a real number, not 'list'",
     "output_type": "error",
     "traceback": [
      "\u001b[1;31m---------------------------------------------------------------------------\u001b[0m",
      "\u001b[1;31mTypeError\u001b[0m                                 Traceback (most recent call last)",
      "Cell \u001b[1;32mIn[210], line 16\u001b[0m\n\u001b[0;32m     14\u001b[0m         \u001b[38;5;28mprint\u001b[39m(tup)\n\u001b[0;32m     15\u001b[0m \u001b[38;5;28;01mif\u001b[39;00m \u001b[38;5;18m__name__\u001b[39m\u001b[38;5;241m==\u001b[39m\u001b[38;5;124m\"\u001b[39m\u001b[38;5;124m__main__\u001b[39m\u001b[38;5;124m\"\u001b[39m:\n\u001b[1;32m---> 16\u001b[0m     sort_tuples()\n",
      "Cell \u001b[1;32mIn[210], line 10\u001b[0m, in \u001b[0;36msort_tuples\u001b[1;34m()\u001b[0m\n\u001b[0;32m      8\u001b[0m         \u001b[38;5;28;01mbreak\u001b[39;00m\n\u001b[0;32m      9\u001b[0m     name,age,height\u001b[38;5;241m=\u001b[39muser_input\u001b[38;5;241m.\u001b[39msplit(\u001b[38;5;124m'\u001b[39m\u001b[38;5;124m,\u001b[39m\u001b[38;5;124m'\u001b[39m)\n\u001b[1;32m---> 10\u001b[0m     tuples_list\u001b[38;5;241m.\u001b[39mappend((name\u001b[38;5;241m.\u001b[39mstrip(),\u001b[38;5;28mint\u001b[39m(age\u001b[38;5;241m.\u001b[39msplit()),\u001b[38;5;28mfloat\u001b[39m(height\u001b[38;5;241m.\u001b[39mstrip())))\n\u001b[0;32m     11\u001b[0m tuples_list\u001b[38;5;241m.\u001b[39msort(key\u001b[38;5;241m=\u001b[39m\u001b[38;5;28;01mlambda\u001b[39;00m x:(x[\u001b[38;5;241m0\u001b[39m],x[\u001b[38;5;241m1\u001b[39m],x[\u001b[38;5;241m2\u001b[39m]))\n\u001b[0;32m     13\u001b[0m \u001b[38;5;28;01mfor\u001b[39;00m tup \u001b[38;5;129;01min\u001b[39;00m tuples_list:\n",
      "\u001b[1;31mTypeError\u001b[0m: int() argument must be a string, a bytes-like object or a real number, not 'list'"
     ]
    }
   ],
   "source": [
    "# Q29 #\n",
    "\n",
    "def sort_tuples():\n",
    "    tuples_list=[]\n",
    "    while True:\n",
    "        user_input=input(\"enter name,age,height:\")\n",
    "        if user_input.lower()=='stop':\n",
    "            break\n",
    "        name,age,height=user_input.split(',')\n",
    "        tuples_list.append((name.strip(),int(age.split()),float(height.strip())))\n",
    "    tuples_list.sort(key=lambda x:(x[0],x[1],x[2]))\n",
    "\n",
    "    for tup in tuples_list:\n",
    "        print(tup)\n",
    "if __name__==\"__main__\":\n",
    "    sort_tuples()\n"
   ]
  },
  {
   "cell_type": "code",
   "execution_count": 96,
   "id": "3b2c5ffb-fb81-4666-a24b-4be04de583e0",
   "metadata": {},
   "outputs": [
    {
     "name": "stdin",
     "output_type": "stream",
     "text": [
      " 6\n"
     ]
    },
    {
     "name": "stdout",
     "output_type": "stream",
     "text": [
      "even\n",
      "6\n"
     ]
    }
   ],
   "source": [
    "# Q30 #\n",
    "\n",
    "def odd_or_even(num):\n",
    "    if num%2==0:\n",
    "        print(\"even\")\n",
    "    else:\n",
    "        print(\"odd\")\n",
    "    return num\n",
    "number=int(input())\n",
    "print(odd_or_even(number))"
   ]
  },
  {
   "cell_type": "code",
   "execution_count": 133,
   "id": "f91d3854-9b27-4a75-bcbd-9b7aa6b1876c",
   "metadata": {},
   "outputs": [
    {
     "name": "stdin",
     "output_type": "stream",
     "text": [
      " 7\n"
     ]
    },
    {
     "name": "stdout",
     "output_type": "stream",
     "text": [
      "13\n"
     ]
    }
   ],
   "source": [
    "# Q31 #\n",
    "\n",
    "def fibonacci(num):\n",
    "    if num == 0:\n",
    "        return 0\n",
    "    elif num == 1 or num == 2:\n",
    "        return 1\n",
    "    else:\n",
    "        \n",
    "         for i in range(num):\n",
    "             return fibonacci(num-1)+fibonacci(num-2)\n",
    "             \n",
    "             \n",
    "             \n",
    "            \n",
    "n=int(input())\n",
    "print(fibonacci(n))"
   ]
  },
  {
   "cell_type": "code",
   "execution_count": 136,
   "id": "05b54864-e487-4cc0-98b6-ffd4e63c0217",
   "metadata": {},
   "outputs": [
    {
     "name": "stdout",
     "output_type": "stream",
     "text": [
      "x: 1\n",
      "y: 2\n",
      "z: 3\n"
     ]
    }
   ],
   "source": [
    "# Q32 #\n",
    "\n",
    "t=(1,2,3)\n",
    "\n",
    "x,y,z=t\n",
    "\n",
    "print(\"x:\",x)\n",
    "print(\"y:\",y)\n",
    "print(\"z:\",z)"
   ]
  },
  {
   "cell_type": "code",
   "execution_count": 137,
   "id": "657bf435-b7f0-410c-baa3-46893a9c004a",
   "metadata": {},
   "outputs": [
    {
     "name": "stdout",
     "output_type": "stream",
     "text": [
      "{'name': 'nada mohamed', 'age': 22, 'city': 'cairo'}\n"
     ]
    }
   ],
   "source": [
    "# Q33 #\n",
    "\n",
    "person={ \n",
    "    \"name\":\"nada mohamed\",\n",
    "    \"age\":22,\n",
    "    \"city\":\"cairo\"\n",
    "}\n",
    "\n",
    "print(person)"
   ]
  },
  {
   "cell_type": "code",
   "execution_count": 138,
   "id": "65ebd95e-2e2b-4e6b-9f82-a0053e3a21ca",
   "metadata": {},
   "outputs": [
    {
     "name": "stdout",
     "output_type": "stream",
     "text": [
      "22\n"
     ]
    }
   ],
   "source": [
    "# Q34 #\n",
    "# access and print #\n",
    "\n",
    "age= person[\"age\"]\n",
    "print(age)"
   ]
  },
  {
   "cell_type": "code",
   "execution_count": 141,
   "id": "ec9e9f45-b95d-4599-a8bb-e86572f8ede7",
   "metadata": {},
   "outputs": [
    {
     "name": "stdout",
     "output_type": "stream",
     "text": [
      "34\n"
     ]
    }
   ],
   "source": [
    "# Q35  #\n",
    "\n",
    "# update age #\n",
    "\n",
    "age=34\n",
    "print(age)"
   ]
  },
  {
   "cell_type": "code",
   "execution_count": 13,
   "id": "0a99341e-d0fc-448a-94f4-027b67e39be5",
   "metadata": {},
   "outputs": [
    {
     "name": "stdout",
     "output_type": "stream",
     "text": [
      "name:nada\n",
      "age:22\n",
      "city:cairo\n"
     ]
    }
   ],
   "source": [
    "# Q36 #\n",
    "\n",
    "person ={\n",
    "    \"name\":\"nada\",\n",
    "    \"age\":22,\n",
    "    \"city\":\"cairo\"\n",
    "}\n",
    "\n",
    "#iterate#\n",
    "\n",
    "for key in person :\n",
    "    print (f\"{key}:{person[key]}\")"
   ]
  },
  {
   "cell_type": "code",
   "execution_count": 143,
   "id": "660a8295-2f1b-443c-bbc8-e5b5117d7920",
   "metadata": {},
   "outputs": [
    {
     "name": "stdout",
     "output_type": "stream",
     "text": [
      "3\n"
     ]
    }
   ],
   "source": [
    "# Q37 #\n",
    "# length of key #\n",
    "\n",
    "num=len(person)\n",
    "print(num)"
   ]
  },
  {
   "cell_type": "code",
   "execution_count": 149,
   "id": "6ec2628f-f4a6-41a1-bb08-123d95ce26f0",
   "metadata": {},
   "outputs": [
    {
     "name": "stdout",
     "output_type": "stream",
     "text": [
      "{'name': 'nada', 'age': 22}\n"
     ]
    }
   ],
   "source": [
    "# Q38 #\n",
    "\n",
    "person.pop(\"city\")\n",
    "print(person)\n"
   ]
  },
  {
   "cell_type": "code",
   "execution_count": 150,
   "id": "04c88a61-4167-49eb-8163-0282f142ea10",
   "metadata": {},
   "outputs": [
    {
     "name": "stdout",
     "output_type": "stream",
     "text": [
      "no\n"
     ]
    }
   ],
   "source": [
    "# Q39 #\n",
    "\n",
    "if \"gender\" in person :\n",
    "    print(\"yes\")\n",
    "else:\n",
    "    print(\"no\")"
   ]
  },
  {
   "cell_type": "code",
   "execution_count": 157,
   "id": "d8b2ac67-06c7-4c15-9226-3d63bf42f0f7",
   "metadata": {},
   "outputs": [
    {
     "name": "stdout",
     "output_type": "stream",
     "text": [
      "{'name': 'money', 'age': 22, 'price': 33, 'na': 'money'}\n"
     ]
    }
   ],
   "source": [
    "# Q40 #\n",
    "\n",
    "book={\n",
    "    \"name\":\"money\",\n",
    "    \"price\":33\n",
    "}\n",
    "person.update(book)\n",
    "print(person)\n"
   ]
  },
  {
   "cell_type": "code",
   "execution_count": 14,
   "id": "08b77e69-dafb-46c5-b82c-306bf42433e3",
   "metadata": {},
   "outputs": [
    {
     "name": "stdout",
     "output_type": "stream",
     "text": [
      "['name', 'age', 'city']\n"
     ]
    }
   ],
   "source": [
    "# Q41 #\n",
    "\n",
    "keys_list=list(person.keys())\n",
    "print(keys_list)"
   ]
  },
  {
   "cell_type": "code",
   "execution_count": 15,
   "id": "17720c86-ec45-4832-abf4-c2b14a1c96fd",
   "metadata": {},
   "outputs": [
    {
     "name": "stdout",
     "output_type": "stream",
     "text": [
      "['nada', 22, 'cairo']\n"
     ]
    }
   ],
   "source": [
    "# Q42 #\n",
    "\n",
    "values_list=list(person.values())\n",
    "print(values_list)"
   ]
  },
  {
   "cell_type": "code",
   "execution_count": 161,
   "id": "922c82de-ce24-4606-97d3-3931a26ca09c",
   "metadata": {},
   "outputs": [
    {
     "name": "stdout",
     "output_type": "stream",
     "text": [
      "{'age': 22, 'price': 33, 'na': 'money'}\n"
     ]
    }
   ],
   "source": [
    "# Q43 #\n",
    "\n",
    "person.pop(\"name\")\n",
    "print(person)"
   ]
  },
  {
   "cell_type": "code",
   "execution_count": 162,
   "id": "b996d8f2-8fed-478b-98af-3d02193183a9",
   "metadata": {},
   "outputs": [
    {
     "name": "stdout",
     "output_type": "stream",
     "text": [
      "{}\n"
     ]
    }
   ],
   "source": [
    "# Q44 #\n",
    "\n",
    "person.clear()\n",
    "\n",
    "print(person)"
   ]
  },
  {
   "cell_type": "code",
   "execution_count": 18,
   "id": "c544babd-ca3e-486a-9496-571a994ff0d7",
   "metadata": {},
   "outputs": [
    {
     "name": "stdout",
     "output_type": "stream",
     "text": [
      "['age', 'gender', 'name']\n"
     ]
    }
   ],
   "source": [
    "# Q45 #\n",
    "\n",
    "person={\n",
    "    \"name\":\"nada\",\n",
    "    \"age\":22,\n",
    "    \"gender\":\"female\"\n",
    "}\n",
    "\n",
    "sort=sorted(person.keys())\n",
    "print(sort)"
   ]
  },
  {
   "cell_type": "code",
   "execution_count": 19,
   "id": "8ee58521-d343-477f-a75c-51b91f4fd8d2",
   "metadata": {},
   "outputs": [
    {
     "ename": "TypeError",
     "evalue": "'<' not supported between instances of 'int' and 'str'",
     "output_type": "error",
     "traceback": [
      "\u001b[1;31m---------------------------------------------------------------------------\u001b[0m",
      "\u001b[1;31mTypeError\u001b[0m                                 Traceback (most recent call last)",
      "Cell \u001b[1;32mIn[19], line 3\u001b[0m\n\u001b[0;32m      1\u001b[0m \u001b[38;5;66;03m# Q46 #\u001b[39;00m\n\u001b[1;32m----> 3\u001b[0m sort1\u001b[38;5;241m=\u001b[39m\u001b[38;5;28msorted\u001b[39m(person\u001b[38;5;241m.\u001b[39mvalues())\n\u001b[0;32m      4\u001b[0m \u001b[38;5;28mprint\u001b[39m(sort1)\n",
      "\u001b[1;31mTypeError\u001b[0m: '<' not supported between instances of 'int' and 'str'"
     ]
    }
   ],
   "source": [
    "# Q46 #\n",
    "\n",
    "sort1=sorted(person.values())\n",
    "print(sort1)"
   ]
  },
  {
   "cell_type": "code",
   "execution_count": 20,
   "id": "3d97a7b0-0e7c-484e-8c17-be0fbf936f00",
   "metadata": {},
   "outputs": [
    {
     "ename": "TypeError",
     "evalue": "'>' not supported between instances of 'str' and 'dict'",
     "output_type": "error",
     "traceback": [
      "\u001b[1;31m---------------------------------------------------------------------------\u001b[0m",
      "\u001b[1;31mTypeError\u001b[0m                                 Traceback (most recent call last)",
      "Cell \u001b[1;32mIn[20], line 3\u001b[0m\n\u001b[0;32m      1\u001b[0m \u001b[38;5;66;03m# Q47 #\u001b[39;00m\n\u001b[1;32m----> 3\u001b[0m max_\u001b[38;5;241m=\u001b[39m\u001b[38;5;28mmax\u001b[39m(person,key)\n\u001b[0;32m      4\u001b[0m \u001b[38;5;28mprint\u001b[39m(max_)\n",
      "\u001b[1;31mTypeError\u001b[0m: '>' not supported between instances of 'str' and 'dict'"
     ]
    }
   ],
   "source": [
    "# Q47 #\n",
    "\n",
    "max_=max(person,key)\n",
    "print(max_)"
   ]
  },
  {
   "cell_type": "code",
   "execution_count": 21,
   "id": "5d8072aa-7bd4-4c61-9bf9-7fa91868c446",
   "metadata": {},
   "outputs": [
    {
     "ename": "TypeError",
     "evalue": "'<' not supported between instances of 'str' and 'dict'",
     "output_type": "error",
     "traceback": [
      "\u001b[1;31m---------------------------------------------------------------------------\u001b[0m",
      "\u001b[1;31mTypeError\u001b[0m                                 Traceback (most recent call last)",
      "Cell \u001b[1;32mIn[21], line 3\u001b[0m\n\u001b[0;32m      1\u001b[0m \u001b[38;5;66;03m# Q48 #\u001b[39;00m\n\u001b[1;32m----> 3\u001b[0m min_\u001b[38;5;241m=\u001b[39m\u001b[38;5;28mmin\u001b[39m(person,key)\n\u001b[0;32m      4\u001b[0m \u001b[38;5;28mprint\u001b[39m(min_)\n",
      "\u001b[1;31mTypeError\u001b[0m: '<' not supported between instances of 'str' and 'dict'"
     ]
    }
   ],
   "source": [
    "# Q48 #\n",
    "\n",
    "min_=min(person,key)\n",
    "print(min_)"
   ]
  },
  {
   "cell_type": "code",
   "execution_count": 223,
   "id": "7d5d820f-38c4-4490-806a-5ef23d177985",
   "metadata": {},
   "outputs": [
    {
     "name": "stdout",
     "output_type": "stream",
     "text": [
      "{1: 1, 2: 4, 3: 9, 4: 16, 5: 25}\n"
     ]
    }
   ],
   "source": [
    "# Q49 #\n",
    "\n",
    "sqr={x: x**2 for x in range  (1,6)}\n",
    "\n",
    "print(sqr)"
   ]
  },
  {
   "cell_type": "code",
   "execution_count": 228,
   "id": "03fc3b20-963f-439f-bb5e-5655bacfd186",
   "metadata": {},
   "outputs": [
    {
     "ename": "TypeError",
     "evalue": "'int' object is not callable",
     "output_type": "error",
     "traceback": [
      "\u001b[1;31m---------------------------------------------------------------------------\u001b[0m",
      "\u001b[1;31mTypeError\u001b[0m                                 Traceback (most recent call last)",
      "Cell \u001b[1;32mIn[228], line 4\u001b[0m\n\u001b[0;32m      1\u001b[0m \u001b[38;5;66;03m# Q50 #\u001b[39;00m\n\u001b[1;32m----> 4\u001b[0m \u001b[38;5;28mprint\u001b[39m(\u001b[38;5;28mlist\u001b[39m(\u001b[38;5;28mrange\u001b[39m(\u001b[38;5;241m1\u001b[39m,\u001b[38;5;241m6\u001b[39m)))\n",
      "\u001b[1;31mTypeError\u001b[0m: 'int' object is not callable"
     ]
    }
   ],
   "source": [
    "# Q50 #\n",
    "\n",
    "\n",
    "print(list(range(1,6)))"
   ]
  },
  {
   "cell_type": "code",
   "execution_count": 178,
   "id": "29e51673-549f-4033-8cb0-a8385e60ed7a",
   "metadata": {},
   "outputs": [
    {
     "name": "stdout",
     "output_type": "stream",
     "text": [
      "2\n"
     ]
    }
   ],
   "source": [
    "# Q51 #\n",
    "\n",
    "my_l=[1,2,2,3,4]\n",
    "\n",
    "print(my_l[2])\n"
   ]
  },
  {
   "cell_type": "code",
   "execution_count": 179,
   "id": "4fe0a43d-96c8-4222-b22c-f478750e4920",
   "metadata": {},
   "outputs": [
    {
     "name": "stdout",
     "output_type": "stream",
     "text": [
      "[1, 10, 2, 3, 4]\n"
     ]
    }
   ],
   "source": [
    "# Q52 #\n",
    "\n",
    "my_l[1]=10\n",
    "print(my_l)"
   ]
  },
  {
   "cell_type": "code",
   "execution_count": 180,
   "id": "2e6dd37c-96c5-4519-949d-4ada1355d1b5",
   "metadata": {},
   "outputs": [
    {
     "name": "stdout",
     "output_type": "stream",
     "text": [
      "5\n"
     ]
    }
   ],
   "source": [
    "# Q53 #\n",
    "\n",
    "num=len(my_l)\n",
    "print(num)"
   ]
  },
  {
   "cell_type": "code",
   "execution_count": 181,
   "id": "24f9ddb8-5d15-4319-bcce-88ec3cd057d0",
   "metadata": {},
   "outputs": [
    {
     "name": "stdout",
     "output_type": "stream",
     "text": [
      "[1, 10, 2, 3, 4, 5]\n"
     ]
    }
   ],
   "source": [
    "# Q54 #\n",
    "\n",
    "my_l.append(5)\n",
    "print(my_l)"
   ]
  },
  {
   "cell_type": "code",
   "execution_count": 182,
   "id": "4662cc24-0719-4fc7-90f9-800eca2fabf7",
   "metadata": {},
   "outputs": [
    {
     "name": "stdout",
     "output_type": "stream",
     "text": [
      "[1, 2, 3, 10, 20, 30]\n"
     ]
    }
   ],
   "source": [
    "# Q55 #\n",
    "l1=[1,2,3]\n",
    "l2=[10,20,30]\n",
    "l3=l1+l2\n",
    "\n",
    "print(l3)"
   ]
  },
  {
   "cell_type": "code",
   "execution_count": 183,
   "id": "69765ffa-2691-4eb4-8b21-7e8a56def163",
   "metadata": {},
   "outputs": [
    {
     "name": "stdout",
     "output_type": "stream",
     "text": [
      "[1, 10, 2, 3, 4, 5, 1, 10, 2, 3, 4, 5, 1, 10, 2, 3, 4, 5]\n"
     ]
    }
   ],
   "source": [
    "# Q56 #\n",
    "\n",
    "repeat=my_l*3\n",
    "\n",
    "print(repeat)"
   ]
  },
  {
   "cell_type": "code",
   "execution_count": 186,
   "id": "d4797d62-8ecf-47b9-afd5-b90be51386d9",
   "metadata": {},
   "outputs": [
    {
     "name": "stdout",
     "output_type": "stream",
     "text": [
      "3\n",
      "4\n",
      "5\n",
      "6\n",
      "7\n"
     ]
    }
   ],
   "source": [
    "# Q57 #\n",
    "\n",
    "l1=[1,2,3,4,5,6,7,8,9,10]\n",
    "\n",
    "for i in range(2,7):\n",
    "    print(l1[i])"
   ]
  },
  {
   "cell_type": "code",
   "execution_count": 187,
   "id": "abb56211-f493-4733-acdf-60abc7af9828",
   "metadata": {},
   "outputs": [
    {
     "name": "stdout",
     "output_type": "stream",
     "text": [
      "1\n",
      "2\n",
      "3\n",
      "4\n",
      "5\n",
      "6\n",
      "7\n",
      "8\n",
      "9\n",
      "10\n"
     ]
    }
   ],
   "source": [
    "# Q58 #\n",
    "\n",
    "for i in range(0,10):\n",
    "    print(l1[i])"
   ]
  },
  {
   "cell_type": "code",
   "execution_count": 188,
   "id": "7782d3ff-e237-4443-90a5-45bad296aa94",
   "metadata": {},
   "outputs": [
    {
     "name": "stdout",
     "output_type": "stream",
     "text": [
      "[1, 3, 5, 6, 72]\n"
     ]
    }
   ],
   "source": [
    "# Q59 #\n",
    "\n",
    "list_=[3,5,72,1,6]\n",
    "\n",
    "sort=sorted(list_)\n",
    "\n",
    "print(sort)"
   ]
  },
  {
   "cell_type": "code",
   "execution_count": 190,
   "id": "69e128fd-6fbc-48e8-8d1a-bb54161ccc03",
   "metadata": {},
   "outputs": [
    {
     "name": "stdout",
     "output_type": "stream",
     "text": [
      "[3, 5, 72, 1, 6]\n"
     ]
    }
   ],
   "source": [
    "# Q60 #\n",
    "\n",
    "list_.reverse()\n",
    "print(list_)"
   ]
  },
  {
   "cell_type": "code",
   "execution_count": 192,
   "id": "b28bc1b4-1619-4a65-91fa-4761056ffb89",
   "metadata": {},
   "outputs": [
    {
     "name": "stdout",
     "output_type": "stream",
     "text": [
      "[3, 5, 1, 6]\n"
     ]
    }
   ],
   "source": [
    "# Q61 #\n",
    "\n",
    "list_.pop(2)\n",
    "print(list_)"
   ]
  },
  {
   "cell_type": "code",
   "execution_count": 193,
   "id": "14158da7-3b56-4de3-b004-aaf475ee3a44",
   "metadata": {},
   "outputs": [
    {
     "name": "stdout",
     "output_type": "stream",
     "text": [
      "[]\n"
     ]
    }
   ],
   "source": [
    "# Q62 #\n",
    "\n",
    "list_.clear()\n",
    "print(list_)"
   ]
  },
  {
   "cell_type": "code",
   "execution_count": 194,
   "id": "e1362d17-5bd1-487d-a901-45754f5a7b52",
   "metadata": {},
   "outputs": [
    {
     "name": "stdout",
     "output_type": "stream",
     "text": [
      "[1, 4, 9, 16, 25]\n"
     ]
    }
   ],
   "source": [
    "# Q63 #\n",
    "\n",
    "sqr1=[x**2 for x in range(1,6)]\n",
    "print(sqr1)"
   ]
  },
  {
   "cell_type": "code",
   "execution_count": 195,
   "id": "3a90ce43-f1e8-4bf6-884b-1841cd9d36ce",
   "metadata": {},
   "outputs": [
    {
     "name": "stdout",
     "output_type": "stream",
     "text": [
      "10\n",
      "20\n",
      "30\n"
     ]
    }
   ],
   "source": [
    "# Q64 #\n",
    "\n",
    "l2=[10,20,30]\n",
    "\n",
    "x,y,z=l2\n",
    "print(x)\n",
    "print(y)\n",
    "print(z)"
   ]
  },
  {
   "cell_type": "code",
   "execution_count": null,
   "id": "6cf82209-3a08-4437-a455-69465cbcae6a",
   "metadata": {},
   "outputs": [],
   "source": []
  }
 ],
 "metadata": {
  "kernelspec": {
   "display_name": "Python 3 (ipykernel)",
   "language": "python",
   "name": "python3"
  },
  "language_info": {
   "codemirror_mode": {
    "name": "ipython",
    "version": 3
   },
   "file_extension": ".py",
   "mimetype": "text/x-python",
   "name": "python",
   "nbconvert_exporter": "python",
   "pygments_lexer": "ipython3",
   "version": "3.11.7"
  }
 },
 "nbformat": 4,
 "nbformat_minor": 5
}
